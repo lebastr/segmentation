{
 "cells": [
  {
   "cell_type": "code",
   "execution_count": 10,
   "metadata": {},
   "outputs": [],
   "source": [
    "import PIL.Image as Img\n",
    "import glob\n",
    "import os\n"
   ]
  },
  {
   "cell_type": "code",
   "execution_count": 23,
   "metadata": {},
   "outputs": [
    {
     "data": {
      "image/png": "[encoded data removed]",
      "text/plain": [
       "<PIL.PngImagePlugin.PngImageFile image mode=L size=480x360 at 0x7F0BA51FFBE0>"
      ]
     },
     "execution_count": 23,
     "metadata": {},
     "output_type": "execute_result"
    }
   ],
   "source": [
    "dataset_dir = os.environ['HOME'] + '/dataset/road_segmentation_dataset/dataset1'\n",
    "images_dir = os.path.join(dataset_dir, 'images_prepped_train')\n",
    "annotations_dir = os.path.join(dataset_dir, 'annotations_prepped_train')\n",
    "\n",
    "images = glob.glob(os.path.join(images_dir, '*.png'))\n",
    "anns = glob.glob(os.path.join(annotations_dir, '*.png'))\n",
    "\n",
    "img1_path = anns[1]\n",
    "\n",
    "img1 = Img.open(img1_path)\n",
    "img1"
   ]
  },
  {
   "cell_type": "code",
   "execution_count": 24,
   "metadata": {},
   "outputs": [],
   "source": [
    "import numpy as np\n",
    "ia1 = np.array(img1)"
   ]
  },
  {
   "cell_type": "code",
   "execution_count": 25,
   "metadata": {},
   "outputs": [
    {
     "data": {
      "text/plain": [
       "(360, 480)"
      ]
     },
     "execution_count": 25,
     "metadata": {},
     "output_type": "execute_result"
    }
   ],
   "source": [
    "ia1.shape"
   ]
  },
  {
   "cell_type": "code",
   "execution_count": 26,
   "metadata": {},
   "outputs": [
    {
     "data": {
      "text/plain": [
       "array([[ 5,  5,  5, ...,  1,  1,  1],\n",
       "       [ 5,  5,  5, ...,  1,  1,  1],\n",
       "       [ 5,  5,  5, ...,  1,  1,  1],\n",
       "       ..., \n",
       "       [ 3,  3,  3, ..., 11, 11, 11],\n",
       "       [ 3,  3,  3, ..., 11, 11, 11],\n",
       "       [ 3,  3,  3, ..., 11, 11, 11]], dtype=uint8)"
      ]
     },
     "execution_count": 26,
     "metadata": {},
     "output_type": "execute_result"
    }
   ],
   "source": [
    "ia1"
   ]
  },
  {
   "cell_type": "code",
   "execution_count": null,
   "metadata": {
    "collapsed": true
   },
   "outputs": [],
   "source": []
  }
 ],
 "metadata": {
  "kernelspec": {
   "display_name": "Python 3",
   "language": "python",
   "name": "python3"
  },
  "language_info": {
   "codemirror_mode": {
    "name": "ipython",
    "version": 3
   },
   "file_extension": ".py",
   "mimetype": "text/x-python",
   "name": "python",
   "nbconvert_exporter": "python",
   "pygments_lexer": "ipython3",
   "version": "3.6.4"
  }
 },
 "nbformat": 4,
 "nbformat_minor": 1
}
