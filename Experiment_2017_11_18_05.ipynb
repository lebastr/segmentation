{
 "cells": [
  {
   "cell_type": "markdown",
   "metadata": {},
   "source": [
    "## К сожалению текст буки с 5-ым экспериментом был перетерт 6-ым\n",
    "\n",
    "В сухом остатке можно сказать, что 5-ый эксперимент был попыткой обучить сеть большим батчем с размером 20 картинок.\n",
    "Результаты эксперимента находятся тут:"
   ]
  },
  {
   "cell_type": "code",
   "execution_count": 1,
   "metadata": {},
   "outputs": [
    {
     "name": "stdout",
     "output_type": "stream",
     "text": [
      "0   14\t2   25\t30  36\t41  47\t52  58\t63  69\t74  8\t85\r\n",
      "1   15\t20  26\t31  37\t42  48\t53  59\t64  7\t75  80\t86\r\n",
      "10  16\t21  27\t32  38\t43  49\t54  6\t65  70\t76  81\t87\r\n",
      "11  17\t22  28\t33  39\t44  5\t55  60\t66  71\t77  82\t9\r\n",
      "12  18\t23  29\t34  4\t45  50\t56  61\t67  72\t78  83\thistory.json\r\n",
      "13  19\t24  3\t35  40\t46  51\t57  62\t68  73\t79  84\r\n"
     ]
    }
   ],
   "source": [
    "!ls ./experiments/2017-11-17\\ 20\\:50\\:01.943898/model"
   ]
  },
  {
   "cell_type": "code",
   "execution_count": 2,
   "metadata": {},
   "outputs": [
    {
     "name": "stdout",
     "output_type": "stream",
     "text": [
      "\"Train Unet with rotations each image in minibatch on different angle. Number of epochs is 120. Experiment_2017_11_16_05\""
     ]
    }
   ],
   "source": [
    "!cat ./experiments/2017-11-17\\ 20\\:50\\:01.943898/description.txt"
   ]
  }
 ],
 "metadata": {
  "kernelspec": {
   "display_name": "Python 2",
   "language": "python",
   "name": "python2"
  },
  "language_info": {
   "codemirror_mode": {
    "name": "ipython",
    "version": 2
   },
   "file_extension": ".py",
   "mimetype": "text/x-python",
   "name": "python",
   "nbconvert_exporter": "python",
   "pygments_lexer": "ipython2",
   "version": "2.7.14"
  }
 },
 "nbformat": 4,
 "nbformat_minor": 2
}
