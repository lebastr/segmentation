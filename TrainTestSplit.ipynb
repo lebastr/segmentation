{
 "cells": [
  {
   "cell_type": "markdown",
   "metadata": {},
   "source": [
    "# Разделим выборку на train и test\n",
    "\n",
    "Для последующих экспериментов сделаем такое разделение и зафиксируем его. В файлике train_test_loader будет реализован загрузчик обучающей и валидационной выборки."
   ]
  },
  {
   "cell_type": "code",
   "execution_count": 30,
   "metadata": {},
   "outputs": [
    {
     "name": "stdout",
     "output_type": "stream",
     "text": [
      "The autoreload extension is already loaded. To reload it, use:\n",
      "  %reload_ext autoreload\n"
     ]
    }
   ],
   "source": [
    "%load_ext autoreload\n",
    "%autoreload 2"
   ]
  },
  {
   "cell_type": "code",
   "execution_count": 31,
   "metadata": {},
   "outputs": [],
   "source": [
    "import dataset as s\n",
    "import json\n",
    "import os"
   ]
  },
  {
   "cell_type": "code",
   "execution_count": 32,
   "metadata": {
    "collapsed": true
   },
   "outputs": [],
   "source": [
    "data_set = s.DataSet(\"./dataset/trainset\", [s.ChannelPAN], image_size=(240,240))\n",
    "data_set.load()\n",
    "\n",
    "image_ids = data_set.image_ids()\n",
    "random.shuffle(image_ids)\n",
    "split_point = len(image_ids)*7 // 10\n",
    "train_ids = image_ids[:split_point]\n",
    "test_ids = image_ids[split_point:]\n",
    "\n",
    "json.dump({'train' : train_ids, 'test' : test_ids}, open(\"train_test.json\", \"w\"))"
   ]
  }
 ],
 "metadata": {
  "kernelspec": {
   "display_name": "Python 2",
   "language": "python",
   "name": "python2"
  },
  "language_info": {
   "codemirror_mode": {
    "name": "ipython",
    "version": 2
   },
   "file_extension": ".py",
   "mimetype": "text/x-python",
   "name": "python",
   "nbconvert_exporter": "python",
   "pygments_lexer": "ipython2",
   "version": "2.7.14"
  }
 },
 "nbformat": 4,
 "nbformat_minor": 2
}
