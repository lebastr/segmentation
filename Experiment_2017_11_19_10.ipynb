{
 "cells": [
  {
   "cell_type": "markdown",
   "metadata": {},
   "source": [
    "# Эксперимент был прерван. Директория с ним удалена!!"
   ]
  },
  {
   "cell_type": "markdown",
   "metadata": {},
   "source": [
    "## Предсказываем внутренность дома с разными lr"
   ]
  },
  {
   "cell_type": "code",
   "execution_count": 1,
   "metadata": {
    "collapsed": true
   },
   "outputs": [],
   "source": [
    "%load_ext autoreload\n",
    "%autoreload 2"
   ]
  },
  {
   "cell_type": "code",
   "execution_count": 2,
   "metadata": {},
   "outputs": [
    {
     "name": "stderr",
     "output_type": "stream",
     "text": [
      "Using TensorFlow backend.\n"
     ]
    }
   ],
   "source": [
    "import os\n",
    "import tensorflow as tf\n",
    "import keras.backend.tensorflow_backend as KTF\n",
    "\n",
    "def get_session(gpu_fraction=0.3):\n",
    "    '''Assume that you have 6GB of GPU memory and want to allocate ~2GB'''\n",
    "\n",
    "    num_threads = os.environ.get('OMP_NUM_THREADS')\n",
    "    gpu_options = tf.GPUOptions(per_process_gpu_memory_fraction=gpu_fraction)\n",
    "\n",
    "    if num_threads:\n",
    "        return tf.Session(config=tf.ConfigProto(\n",
    "            gpu_options=gpu_options, intra_op_parallelism_threads=num_threads))\n",
    "    else:\n",
    "        return tf.Session(config=tf.ConfigProto(gpu_options=gpu_options))\n",
    "\n",
    "\n",
    "KTF.set_session(get_session())"
   ]
  },
  {
   "cell_type": "code",
   "execution_count": 3,
   "metadata": {},
   "outputs": [
    {
     "name": "stdout",
     "output_type": "stream",
     "text": [
      "Sat Nov 18 22:09:39 2017       \r\n",
      "+-----------------------------------------------------------------------------+\r\n",
      "| NVIDIA-SMI 384.90                 Driver Version: 384.90                    |\r\n",
      "|-------------------------------+----------------------+----------------------+\r\n",
      "| GPU  Name        Persistence-M| Bus-Id        Disp.A | Volatile Uncorr. ECC |\r\n",
      "| Fan  Temp  Perf  Pwr:Usage/Cap|         Memory-Usage | GPU-Util  Compute M. |\r\n",
      "|===============================+======================+======================|\r\n",
      "|   0  Tesla K80           Off  | 00000000:00:04.0 Off |                    0 |\r\n",
      "| N/A   29C    P0    58W / 149W |   3519MiB / 11439MiB |      0%      Default |\r\n",
      "+-------------------------------+----------------------+----------------------+\r\n",
      "                                                                               \r\n",
      "+-----------------------------------------------------------------------------+\r\n",
      "| Processes:                                                       GPU Memory |\r\n",
      "|  GPU       PID   Type   Process name                             Usage      |\r\n",
      "|=============================================================================|\r\n",
      "|    0      1773      G   /usr/lib/xorg/Xorg                            15MiB |\r\n",
      "|    0      3459      C   ...e/lebedev/anaconda2/envs/gpu/bin/python  3492MiB |\r\n",
      "+-----------------------------------------------------------------------------+\r\n"
     ]
    }
   ],
   "source": [
    "!nvidia-smi"
   ]
  },
  {
   "cell_type": "code",
   "execution_count": 4,
   "metadata": {
    "collapsed": true
   },
   "outputs": [],
   "source": [
    "import numpy as np\n",
    "import matplotlib.pyplot as plt\n",
    "%matplotlib inline\n",
    "\n",
    "import random\n",
    "import copy\n",
    "\n",
    "import datetime\n",
    "\n",
    "from shutil import copyfile\n",
    "import os\n",
    "import json"
   ]
  },
  {
   "cell_type": "code",
   "execution_count": 5,
   "metadata": {
    "collapsed": true
   },
   "outputs": [],
   "source": [
    "DESCRIPTION = \"\"\"Предсказываем внутренность дома с разными lr\n",
    "Experiment_2017_11_19_10\n",
    "\"\"\"\n",
    "\n",
    "DATE = str(datetime.datetime.now())\n",
    "\n",
    "DIR = './experiments/%s' % DATE\n",
    "\n",
    "os.mkdir(DIR)\n",
    "\n",
    "json.dump(DESCRIPTION, open(DIR + \"/description.txt\", \"w\"))\n",
    "MODULES = ['dataset', 'unet', 'train_test_loader']\n",
    "\n",
    "for m in MODULES:\n",
    "    fname = \"%s.py\" % m\n",
    "    copyfile(fname, DIR + '/' + fname)\n",
    "\n",
    "[s, u, train_test_loader] = map(__import__, MODULES)"
   ]
  },
  {
   "cell_type": "code",
   "execution_count": 6,
   "metadata": {
    "collapsed": true
   },
   "outputs": [],
   "source": [
    "data_set = s.DataSet(\"./dataset/trainset\", [s.ChannelPAN], image_size=(240,240))\n",
    "ids = data_set.load()\n",
    "\n",
    "train_ids, test_ids = train_test_loader.load_train_test()"
   ]
  },
  {
   "cell_type": "code",
   "execution_count": 7,
   "metadata": {},
   "outputs": [
    {
     "data": {
      "text/plain": [
       "<matplotlib.image.AxesImage at 0x7fab3a870e50>"
      ]
     },
     "execution_count": 7,
     "metadata": {},
     "output_type": "execute_result"
    },
    {
     "data": {
      "image/png": "[encoded data removed]",
      "text/plain": [
       "<matplotlib.figure.Figure at 0x7fab40054cd0>"
      ]
     },
     "metadata": {},
     "output_type": "display_data"
    }
   ],
   "source": [
    "plt.figure(figsize=(10,10))\n",
    "arr = data_set.get_mask(train_ids[3])\n",
    "plt.imshow(arr)"
   ]
  },
  {
   "cell_type": "code",
   "execution_count": 8,
   "metadata": {
    "collapsed": true
   },
   "outputs": [],
   "source": [
    "net = u.UnetModel('classic-unet-border', data_set, DIR + \"/model\", lr=5e-4)"
   ]
  },
  {
   "cell_type": "code",
   "execution_count": 9,
   "metadata": {
    "collapsed": true
   },
   "outputs": [],
   "source": [
    "batch_generator = u.BatchGenerator(data_set, train_ids, random_rotate=True, shuffle_on_each_epoch=True)"
   ]
  },
  {
   "cell_type": "code",
   "execution_count": 19,
   "metadata": {
    "collapsed": true
   },
   "outputs": [],
   "source": [
    "t = net.optimizer.lr"
   ]
  },
  {
   "cell_type": "code",
   "execution_count": 21,
   "metadata": {},
   "outputs": [
    {
     "data": {
      "text/plain": [
       "<tf.Tensor 'Assign:0' shape=() dtype=float32_ref>"
      ]
     },
     "execution_count": 21,
     "metadata": {},
     "output_type": "execute_result"
    }
   ],
   "source": [
    "t.assign(1e-5)"
   ]
  },
  {
   "cell_type": "code",
   "execution_count": null,
   "metadata": {
    "collapsed": true
   },
   "outputs": [],
   "source": []
  },
  {
   "cell_type": "code",
   "execution_count": 22,
   "metadata": {
    "scrolled": false
   },
   "outputs": [
    {
     "name": "stdout",
     "output_type": "stream",
     "text": [
      "epoch: 4, loss: 0.284040\n",
      "epoch: 4, loss: 0.249631\n",
      "epoch: 4, loss: 0.266195\n",
      "epoch: 4, loss: 0.265184\n",
      "epoch: 4, loss: 0.264480\n",
      "epoch: 4, loss: 0.237363\n",
      "epoch: 4, loss: 0.236655\n",
      "epoch: 4, loss: 0.317028\n",
      "epoch: 4, loss: 0.226733\n",
      "epoch: 4, loss: 0.228147\n",
      "epoch: 4, loss: 0.282492\n",
      "epoch: 4, loss: 0.236244\n",
      "epoch: 4, loss: 0.255142\n",
      "epoch: 4, loss: 0.274786\n",
      "epoch: 4, loss: 0.222816\n",
      "epoch: 4, loss: 0.303476\n",
      "epoch: 4, loss: 0.264193\n",
      "epoch: 4, loss: 0.272672\n",
      "epoch: 4, loss: 0.287527\n",
      "epoch: 4, loss: 0.226501\n",
      "epoch: 4, loss: 0.245306\n",
      "epoch: 4, loss: 0.253579\n",
      "epoch: 4, loss: 0.240162\n",
      "epoch: 4, loss: 0.253436\n",
      "epoch: 4, loss: 0.258092\n",
      "epoch: 4, loss: 0.307327\n",
      "epoch: 4, loss: 0.222136\n",
      "epoch: 4, loss: 0.325121\n",
      "epoch: 4, loss: 0.256999\n",
      "epoch: 4, loss: 0.239748\n",
      "epoch: 4, loss: 0.232707\n",
      "epoch: 4, loss: 0.257492\n",
      "epoch: 4, loss: 0.256182\n",
      "epoch: 4, loss: 0.220201\n",
      "epoch: 4, loss: 0.272970\n",
      "epoch: 4, loss: 0.262437\n",
      "epoch: 4, loss: 0.326235\n",
      "epoch: 4, loss: 0.240283\n",
      "epoch: 4, loss: 0.254018\n",
      "epoch: 4, loss: 0.264507\n",
      "epoch: 4, loss: 0.231728\n",
      "epoch: 4, loss: 0.253775\n",
      "epoch: 4, loss: 0.245809\n",
      "epoch: 4, loss: 0.345077\n",
      "epoch: 4, loss: 0.270143\n",
      "epoch: 4, loss: 0.230829\n",
      "epoch: 4, loss: 0.265183\n",
      "epoch: 4, loss: 0.283876\n",
      "epoch: 4, loss: 0.217788\n",
      "epoch: 4, loss: 0.276232\n",
      "epoch: 4, loss: 0.292585\n",
      "epoch: 4, loss: 0.279765\n",
      "epoch: 4, loss: 0.229967\n",
      "epoch: 4, loss: 0.261992\n",
      "epoch: 4, loss: 0.244146\n",
      "epoch: 4, loss: 0.249905\n",
      "epoch: 4, loss: 0.263525\n",
      "epoch: 4, loss: 0.229224\n",
      "epoch: 4, loss: 0.236519\n",
      "epoch: 4, loss: 0.326399\n",
      "epoch: 4, loss: 0.250281\n",
      "epoch: 4, loss: 0.229427\n",
      "epoch: 4, loss: 0.218230\n",
      "epoch: 4, loss: 0.217493\n",
      "epoch: 4, loss: 0.241557\n",
      "epoch: 5, loss: 0.225849\n",
      "epoch: 5, loss: 0.237049\n",
      "epoch: 5, loss: 0.300482\n",
      "epoch: 5, loss: 0.284289\n",
      "epoch: 5, loss: 0.334294\n",
      "epoch: 5, loss: 0.239330\n",
      "epoch: 5, loss: 0.257672\n",
      "epoch: 5, loss: 0.235235\n",
      "epoch: 5, loss: 0.226480\n",
      "epoch: 5, loss: 0.223933\n",
      "epoch: 5, loss: 0.256992\n",
      "epoch: 5, loss: 0.240858\n",
      "epoch: 5, loss: 0.222633\n",
      "epoch: 5, loss: 0.227334\n",
      "epoch: 5, loss: 0.280204\n",
      "epoch: 5, loss: 0.269498\n",
      "epoch: 5, loss: 0.201530\n",
      "epoch: 5, loss: 0.222705\n",
      "epoch: 5, loss: 0.213958\n",
      "epoch: 5, loss: 0.234693\n",
      "epoch: 5, loss: 0.242580\n",
      "epoch: 5, loss: 0.225896\n",
      "epoch: 5, loss: 0.230217\n",
      "epoch: 5, loss: 0.250950\n",
      "epoch: 5, loss: 0.218531\n",
      "epoch: 5, loss: 0.243823\n",
      "epoch: 5, loss: 0.263622\n",
      "epoch: 5, loss: 0.208663\n",
      "epoch: 5, loss: 0.221445\n",
      "epoch: 5, loss: 0.247470\n",
      "epoch: 5, loss: 0.251766\n",
      "epoch: 5, loss: 0.227515\n",
      "epoch: 5, loss: 0.238210\n",
      "epoch: 5, loss: 0.238781\n",
      "epoch: 5, loss: 0.277098\n",
      "epoch: 5, loss: 0.241722\n",
      "epoch: 5, loss: 0.288756\n",
      "epoch: 5, loss: 0.278744\n",
      "epoch: 5, loss: 0.213688\n",
      "epoch: 5, loss: 0.189902\n",
      "epoch: 5, loss: 0.226957\n",
      "epoch: 5, loss: 0.213246\n",
      "epoch: 5, loss: 0.235150\n",
      "epoch: 5, loss: 0.207414\n",
      "epoch: 5, loss: 0.229151\n",
      "epoch: 5, loss: 0.249317\n",
      "epoch: 5, loss: 0.206433\n",
      "epoch: 5, loss: 0.232343\n",
      "epoch: 5, loss: 0.232252\n",
      "epoch: 5, loss: 0.218532\n",
      "epoch: 5, loss: 0.209653\n",
      "epoch: 5, loss: 0.246092\n",
      "epoch: 5, loss: 0.212288\n",
      "epoch: 5, loss: 0.189811\n",
      "epoch: 5, loss: 0.272469\n",
      "epoch: 5, loss: 0.200122\n",
      "epoch: 5, loss: 0.225326\n",
      "epoch: 5, loss: 0.221080\n",
      "epoch: 5, loss: 0.314501\n",
      "epoch: 5, loss: 0.247326\n",
      "epoch: 5, loss: 0.272931\n",
      "epoch: 5, loss: 0.221082\n",
      "epoch: 5, loss: 0.204846\n",
      "epoch: 5, loss: 0.278484\n",
      "epoch: 5, loss: 0.309185\n",
      "epoch: 6, loss: 0.265954\n",
      "epoch: 6, loss: 0.225409\n",
      "epoch: 6, loss: 0.248139\n",
      "epoch: 6, loss: 0.284564\n",
      "epoch: 6, loss: 0.223897\n",
      "epoch: 6, loss: 0.293043\n",
      "epoch: 6, loss: 0.217589\n",
      "epoch: 6, loss: 0.210891\n",
      "epoch: 6, loss: 0.224830\n",
      "epoch: 6, loss: 0.193252\n",
      "epoch: 6, loss: 0.200456\n",
      "epoch: 6, loss: 0.230732\n",
      "epoch: 6, loss: 0.230593\n",
      "epoch: 6, loss: 0.268478\n",
      "epoch: 6, loss: 0.231626\n",
      "epoch: 6, loss: 0.245068\n",
      "epoch: 6, loss: 0.199278\n",
      "epoch: 6, loss: 0.227412\n",
      "epoch: 6, loss: 0.242242\n",
      "epoch: 6, loss: 0.221293\n",
      "epoch: 6, loss: 0.205900\n",
      "epoch: 6, loss: 0.216212\n",
      "epoch: 6, loss: 0.205745\n",
      "epoch: 6, loss: 0.237108\n",
      "epoch: 6, loss: 0.313724\n",
      "epoch: 6, loss: 0.272345\n",
      "epoch: 6, loss: 0.210412\n",
      "epoch: 6, loss: 0.218991\n",
      "epoch: 6, loss: 0.207014\n",
      "epoch: 6, loss: 0.275437\n",
      "epoch: 6, loss: 0.265039\n",
      "epoch: 6, loss: 0.291165\n",
      "epoch: 6, loss: 0.197416\n",
      "epoch: 6, loss: 0.197598\n",
      "epoch: 6, loss: 0.199260\n",
      "epoch: 6, loss: 0.185136\n",
      "epoch: 6, loss: 0.217081\n",
      "epoch: 6, loss: 0.228399\n",
      "epoch: 6, loss: 0.184352\n",
      "epoch: 6, loss: 0.222171\n",
      "epoch: 6, loss: 0.239682\n",
      "epoch: 6, loss: 0.219777\n",
      "epoch: 6, loss: 0.177035\n"
     ]
    },
    {
     "ename": "KeyboardInterrupt",
     "evalue": "",
     "output_type": "error",
     "traceback": [
      "\u001b[0;31m---------------------------------------------------------------------------\u001b[0m",
      "\u001b[0;31mKeyboardInterrupt\u001b[0m                         Traceback (most recent call last)",
      "\u001b[0;32m<ipython-input-22-88c0255c8ea8>\u001b[0m in \u001b[0;36m<module>\u001b[0;34m()\u001b[0m\n\u001b[0;32m----> 1\u001b[0;31m \u001b[0mnet\u001b[0m\u001b[0;34m.\u001b[0m\u001b[0mtrain\u001b[0m\u001b[0;34m(\u001b[0m\u001b[0mbatch_generator\u001b[0m\u001b[0;34m,\u001b[0m \u001b[0mepochs\u001b[0m\u001b[0;34m=\u001b[0m\u001b[0;36m60\u001b[0m\u001b[0;34m,\u001b[0m \u001b[0mbatch_size\u001b[0m\u001b[0;34m=\u001b[0m\u001b[0;36m10\u001b[0m\u001b[0;34m)\u001b[0m\u001b[0;34m\u001b[0m\u001b[0m\n\u001b[0m",
      "\u001b[0;32m/home/lebedev/satellite_segmentation/unet.pyc\u001b[0m in \u001b[0;36mtrain\u001b[0;34m(self, batch_generator, epochs, batch_size)\u001b[0m\n\u001b[1;32m     80\u001b[0m             \u001b[0;32mexcept\u001b[0m \u001b[0mBaseException\u001b[0m \u001b[0;32mas\u001b[0m \u001b[0me\u001b[0m\u001b[0;34m:\u001b[0m\u001b[0;34m\u001b[0m\u001b[0m\n\u001b[1;32m     81\u001b[0m                 \u001b[0mself\u001b[0m\u001b[0;34m.\u001b[0m\u001b[0msave\u001b[0m\u001b[0;34m(\u001b[0m\u001b[0;34m\"epoch_%d_interrupted\"\u001b[0m \u001b[0;34m%\u001b[0m \u001b[0mepoch\u001b[0m\u001b[0;34m)\u001b[0m\u001b[0;34m\u001b[0m\u001b[0m\n\u001b[0;32m---> 82\u001b[0;31m                 \u001b[0;32mraise\u001b[0m \u001b[0me\u001b[0m\u001b[0;34m\u001b[0m\u001b[0m\n\u001b[0m\u001b[1;32m     83\u001b[0m \u001b[0;34m\u001b[0m\u001b[0m\n\u001b[1;32m     84\u001b[0m             \u001b[0mself\u001b[0m\u001b[0;34m.\u001b[0m\u001b[0msave\u001b[0m\u001b[0;34m(\u001b[0m\u001b[0;34m\"%d\"\u001b[0m \u001b[0;34m%\u001b[0m \u001b[0mepoch\u001b[0m\u001b[0;34m)\u001b[0m\u001b[0;34m\u001b[0m\u001b[0m\n",
      "\u001b[0;31mKeyboardInterrupt\u001b[0m: "
     ]
    }
   ],
   "source": [
    "net.train(batch_generator, epochs=60, batch_size=10)"
   ]
  }
 ],
 "metadata": {
  "kernelspec": {
   "display_name": "Python 2",
   "language": "python",
   "name": "python2"
  },
  "language_info": {
   "codemirror_mode": {
    "name": "ipython",
    "version": 2
   },
   "file_extension": ".py",
   "mimetype": "text/x-python",
   "name": "python",
   "nbconvert_exporter": "python",
   "pygments_lexer": "ipython2",
   "version": "2.7.14"
  }
 },
 "nbformat": 4,
 "nbformat_minor": 2
}
